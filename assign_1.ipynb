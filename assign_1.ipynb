{
 "cells": [
  {
   "cell_type": "code",
   "execution_count": 4,
   "id": "7ada7f0a",
   "metadata": {},
   "outputs": [
    {
     "name": "stdout",
     "output_type": "stream",
     "text": [
      "Enter Customer Name :-divesh\n",
      "Enter Store Name :-supershop\n",
      "not found\n",
      "not found\n",
      "not found\n",
      "not found\n",
      "not found\n",
      "not found\n",
      "not found\n",
      "not found\n",
      "not found\n",
      "not found\n",
      " Customer Name :divesh \n",
      "        \n",
      " Store Name :supershop \n",
      "        \n",
      " Grocery items and Price :{'rice': '40', ' cookies': '15', ' oil': '100', ' sugar': '20'} \n",
      "        \n",
      " Total Price :-Rs 175\n"
     ]
    }
   ],
   "source": [
    "import pandas as pd\n",
    "import ast\n",
    "class Customer():\n",
    "    \n",
    "    def __init__(self,customer_name, store_name):\n",
    "        self.customer_name = customer_name \n",
    "        self.store_name = store_name\n",
    "    \n",
    "    def buy(self, store_name):\n",
    "        global index\n",
    "\n",
    "        col_list = [\"Store_Name\", \"Grocery_list\"]\n",
    "        df = pd.read_csv(\"Store_list.csv\", usecols=col_list) \n",
    "  \n",
    "        lst_name = df[\"Store_Name\"].tolist()\n",
    "        for i, value in enumerate(lst_name):\n",
    "            if value == store_name:\n",
    "                index = i\n",
    "                break\n",
    "            else: \n",
    "                print('not found')\n",
    "        lst_grocery = df[\"Grocery_list\"].tolist()\n",
    "        for i, value in enumerate(lst_grocery):\n",
    "            if i == index:\n",
    "                dictionary = dict(subString.split(\":\") for subString in value.split(\",\"))\n",
    "                self.payment(dictionary)\n",
    "\n",
    "\n",
    "    def payment(self, dict_val):\n",
    "        \n",
    "        lst = []\n",
    "        for i in dict_val:\n",
    "            lst.append(int(dict_val[i]))\n",
    "            Price = sum(lst)\n",
    "\n",
    "        \n",
    "        print(f\"\"\" Customer Name :{self.customer_name} \n",
    "        \\n Store Name :{self.store_name} \n",
    "        \\n Grocery items and Price :{dict_val} \n",
    "        \\n Total Price :-Rs {Price}\"\"\") \n",
    "\n",
    "\n",
    "Customer_name = input(\"Enter Customer Name :-\")\n",
    "Store_name = input(\"Enter Store Name :-\")\n",
    "\n",
    "#creating objects\n",
    "\n",
    "cust1 = Customer(Customer_name, Store_name)\n",
    "cust1.buy(Store_name)"
   ]
  },
  {
   "cell_type": "code",
   "execution_count": null,
   "id": "c34ab077",
   "metadata": {},
   "outputs": [],
   "source": [
    "import csv\n",
    "class Store():\n",
    "    # create class methods\n",
    "\n",
    "    def __init__(self):\n",
    "        self.store_name = Store_name \n",
    "        self.store_addr = Store_add\n",
    "        self.store_type = Store_type\n",
    "        self.grocery_item = GroceryItems\n",
    "        \n",
    "    data = pd.read_csv(\"Store_list.csv\") \n",
    "    print(data)"
   ]
  }
 ],
 "metadata": {
  "kernelspec": {
   "display_name": "Python 3",
   "language": "python",
   "name": "python3"
  },
  "language_info": {
   "codemirror_mode": {
    "name": "ipython",
    "version": 3
   },
   "file_extension": ".py",
   "mimetype": "text/x-python",
   "name": "python",
   "nbconvert_exporter": "python",
   "pygments_lexer": "ipython3",
   "version": "3.8.8"
  }
 },
 "nbformat": 4,
 "nbformat_minor": 5
}
